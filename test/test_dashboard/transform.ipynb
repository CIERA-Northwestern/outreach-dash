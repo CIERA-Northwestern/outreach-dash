{
 "cells": [
  {
   "cell_type": "code",
   "execution_count": 1,
   "id": "4d435dd3-4106-42c3-a445-72802ca318e0",
   "metadata": {},
   "outputs": [],
   "source": [
    "import numpy as np\n",
    "import pandas as pd"
   ]
  },
  {
   "cell_type": "code",
   "execution_count": 3,
   "id": "d667b104-d2ad-48ac-bb50-b66ed00d7364",
   "metadata": {
    "tags": []
   },
   "outputs": [],
   "source": [
    "import yaml"
   ]
  },
  {
   "cell_type": "code",
   "execution_count": 4,
   "id": "5137a668-a624-4dd2-96ca-6f9ee5f1c153",
   "metadata": {
    "tags": []
   },
   "outputs": [],
   "source": [
    "with open( './config.yml' , \"r\") as f:\n",
    "    config = yaml.load(f, Loader=yaml.FullLoader)"
   ]
  },
  {
   "cell_type": "code",
   "execution_count": null,
   "id": "98e12c18-be43-4339-b29e-34df88ef41b5",
   "metadata": {},
   "outputs": [],
   "source": []
  }
 ],
 "metadata": {
  "kernelspec": {
   "display_name": "Python 3 (ipykernel)",
   "language": "python",
   "name": "python3"
  },
  "language_info": {
   "codemirror_mode": {
    "name": "ipython",
    "version": 3
   },
   "file_extension": ".py",
   "mimetype": "text/x-python",
   "name": "python",
   "nbconvert_exporter": "python",
   "pygments_lexer": "ipython3",
   "version": "3.11.4"
  }
 },
 "nbformat": 4,
 "nbformat_minor": 5
}
