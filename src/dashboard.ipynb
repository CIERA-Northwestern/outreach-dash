{
 "cells": [
  {
   "cell_type": "markdown",
   "id": "b8ad7e10-c3e6-4e0c-9499-0d1bba5fb959",
   "metadata": {},
   "source": [
    "# Setup"
   ]
  },
  {
   "cell_type": "code",
   "execution_count": null,
   "id": "5de5fdb3-f9ee-4fad-89be-e56b0d339969",
   "metadata": {},
   "outputs": [],
   "source": [
    "import numpy as np\n",
    "import os\n",
    "import glob\n",
    "import pandas as pd\n",
    "import sys\n",
    "import yaml"
   ]
  },
  {
   "cell_type": "code",
   "execution_count": null,
   "id": "fa41e967-f9a1-41d3-af3b-9116b28164b7",
   "metadata": {},
   "outputs": [],
   "source": [
    "import matplotlib\n",
    "import matplotlib.pyplot as plt\n",
    "import seaborn as sns\n",
    "sns.set_style( 'whitegrid' )"
   ]
  },
  {
   "cell_type": "markdown",
   "id": "7e7a9965-6466-4fd5-85a1-ca883902f5c9",
   "metadata": {},
   "source": [
    "## Load Data"
   ]
  },
  {
   "cell_type": "code",
   "execution_count": null,
   "id": "340c11b4-cca2-4b4f-bc53-7325bf024852",
   "metadata": {
    "tags": []
   },
   "outputs": [],
   "source": [
    "with open( './config.yml', \"r\") as f:\n",
    "    config = yaml.load(f, Loader=yaml.FullLoader)"
   ]
  },
  {
   "cell_type": "code",
   "execution_count": null,
   "id": "37b5d1c4-4e61-48dc-a18e-1a2f28035de6",
   "metadata": {
    "tags": []
   },
   "outputs": [],
   "source": [
    "input_dir = os.path.join( config['data_dir'], config['input_dirname'] )\n",
    "output_dir = os.path.join( config['data_dir'], config['output_dirname'] )"
   ]
  },
  {
   "cell_type": "code",
   "execution_count": null,
   "id": "c0ff8f54",
   "metadata": {},
   "outputs": [],
   "source": [
    "# Directory for figures\n",
    "figure_dir = config['figure_dir']\n",
    "os.makedirs( figure_dir, exist_ok=True )"
   ]
  },
  {
   "cell_type": "code",
   "execution_count": null,
   "id": "c2f538b6-c4bc-4a88-b7de-c0129b7e9ace",
   "metadata": {
    "tags": []
   },
   "outputs": [],
   "source": [
    "grouping_labels = [ group_by_i.lower().replace( ' ', '_' ) for group_by_i in config['groupings'] ]"
   ]
  },
  {
   "cell_type": "code",
   "execution_count": null,
   "id": "fbb47538",
   "metadata": {},
   "outputs": [],
   "source": [
    "# Load the raw data\n",
    "press_fp = os.path.join( output_dir, config['combined_filename'] )\n",
    "df = pd.read_csv( press_fp, index_col=0 )"
   ]
  },
  {
   "cell_type": "code",
   "execution_count": null,
   "id": "8db06c8f",
   "metadata": {},
   "outputs": [],
   "source": [
    "# Load the counts data\n",
    "counts_dfs = []\n",
    "for i, group_by_i in enumerate( config['groupings'] ):\n",
    "    \n",
    "    counts_i_fp = os.path.join( output_dir, 'counts', 'counts.{}.csv'.format( grouping_labels[i] ) )\n",
    "    counts_i =  pd.read_csv( counts_i_fp, index_col=0 )\n",
    "    counts_dfs.append( counts_i )"
   ]
  },
  {
   "cell_type": "markdown",
   "id": "9827912a-e632-4159-ba4a-f52c22d53cd4",
   "metadata": {},
   "source": [
    "# Counts Per Year"
   ]
  },
  {
   "cell_type": "code",
   "execution_count": null,
   "id": "c05cd14e-311c-4dc2-8967-2053e758c0f9",
   "metadata": {
    "tags": []
   },
   "outputs": [],
   "source": [
    "for i, group_by_i in enumerate( config['groupings'] ):\n",
    "    \n",
    "    # Get data\n",
    "    counts_i =  counts_dfs[i]\n",
    "    \n",
    "    years = counts_i.index\n",
    "    \n",
    "    facet_grid = sns.relplot(\n",
    "        counts_i,\n",
    "        kind = 'line',\n",
    "        dashes = False,\n",
    "        linewidth = 3,\n",
    "        aspect = 2\n",
    "    )\n",
    "    facet_grid.ax.set_xlim( years[0], years[-1] )\n",
    "    facet_grid.ax.set_ylim( 0, facet_grid.ax.get_ylim()[1] )\n",
    "    ticks = facet_grid.ax.set_xticks( years )\n",
    "    facet_grid.ax.set_ylabel( 'Count' )\n",
    "\n",
    "    # Save\n",
    "    save_fn = 'count_per_year.{}.pdf'.format( group_by_i.lower().replace( ' ', '_' ) )\n",
    "    save_dir = os.path.join( figure_dir, 'counts' )\n",
    "    os.makedirs( save_dir, exist_ok=True )\n",
    "    save_fp = os.path.join( save_dir, save_fn )\n",
    "    facet_grid.fig.savefig( save_fp, bbox_inches='tight' )\n"
   ]
  },
  {
   "cell_type": "markdown",
   "id": "ec5bb0b7",
   "metadata": {},
   "source": [
    "# Raw Data with Manual Input"
   ]
  },
  {
   "cell_type": "code",
   "execution_count": null,
   "id": "7d059b25",
   "metadata": {},
   "outputs": [],
   "source": [
    "# Summary of all the data\n",
    "df.info()"
   ]
  },
  {
   "cell_type": "code",
   "execution_count": null,
   "id": "25821746",
   "metadata": {},
   "outputs": [],
   "source": [
    "# The data that has manual entries\n",
    "df.loc[pd.notna(df['Press Mentions'])].info()"
   ]
  },
  {
   "cell_type": "markdown",
   "id": "0f1eafbf",
   "metadata": {},
   "source": []
  }
 ],
 "metadata": {
  "kernelspec": {
   "display_name": "Python 3 (ipykernel)",
   "language": "python",
   "name": "python3"
  },
  "language_info": {
   "codemirror_mode": {
    "name": "ipython",
    "version": 3
   },
   "file_extension": ".py",
   "mimetype": "text/x-python",
   "name": "python",
   "nbconvert_exporter": "python",
   "pygments_lexer": "ipython3",
   "version": "3.11.4"
  }
 },
 "nbformat": 4,
 "nbformat_minor": 5
}
