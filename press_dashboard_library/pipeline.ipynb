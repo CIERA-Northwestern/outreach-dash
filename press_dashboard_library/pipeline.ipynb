{
 "cells": [
  {
   "cell_type": "code",
   "execution_count": 1,
   "id": "694aa7fe-9beb-4149-823d-56936047890b",
   "metadata": {},
   "outputs": [],
   "source": [
    "import numpy as np\n",
    "import pandas as pd"
   ]
  },
  {
   "cell_type": "code",
   "execution_count": 2,
   "id": "fa41e967-f9a1-41d3-af3b-9116b28164b7",
   "metadata": {},
   "outputs": [],
   "source": [
    "import matplotlib\n",
    "import matplotlib.pyplot as plt\n",
    "import seaborn as sns\n",
    "sns.set_style( 'whitegrid' )"
   ]
  },
  {
   "cell_type": "markdown",
   "id": "e6b8fbe6-77b4-4d7a-ae9c-67646f9eab6a",
   "metadata": {},
   "source": [
    "# Parameters"
   ]
  },
  {
   "cell_type": "code",
   "execution_count": 3,
   "id": "d8de42f3-9a31-4252-a9c0-840359281062",
   "metadata": {},
   "outputs": [],
   "source": [
    "year_start = 'September 1'"
   ]
  },
  {
   "cell_type": "code",
   "execution_count": 4,
   "id": "f768130a-8632-49e1-8185-7c598425af2f",
   "metadata": {},
   "outputs": [],
   "source": [
    "data_fp = './data/exports/News_Report_2023-07-25.csv'"
   ]
  },
  {
   "cell_type": "code",
   "execution_count": 5,
   "id": "7c6ef6fc-4d20-40fd-8def-317403eec29e",
   "metadata": {},
   "outputs": [],
   "source": [
    "groupings = [ 'Research Topics', 'Press Types', 'Categories' ]"
   ]
  },
  {
   "cell_type": "markdown",
   "id": "e6efc6e3-5320-47d5-8158-c4c6e84a6691",
   "metadata": {},
   "source": [
    "# Preprocessing"
   ]
  },
  {
   "cell_type": "code",
   "execution_count": null,
   "id": "587a9b88-28a4-4d6d-833a-90bdaae2df28",
   "metadata": {},
   "outputs": [],
   "source": [
    "# Load data\n",
    "df = pd.read_csv( data_fp, parse_dates=[ 'Date', ] )"
   ]
  },
  {
   "cell_type": "code",
   "execution_count": null,
   "id": "ccc050f5-70f0-4012-9959-8622ec67a6f5",
   "metadata": {},
   "outputs": [],
   "source": [
    "# Drop drafts\n",
    "df.drop( df.index[df['Date'].dt.year == 1970], axis='rows', inplace=True )"
   ]
  },
  {
   "cell_type": "code",
   "execution_count": null,
   "id": "51580882-d883-4dd3-930b-38b749278f91",
   "metadata": {},
   "outputs": [],
   "source": [
    "# Drop weird articles---ancient ones w/o a title or press type\n",
    "df.dropna( axis='rows', how='any', subset=[ 'Title', 'Press Types', ], inplace=True )"
   ]
  },
  {
   "cell_type": "code",
   "execution_count": null,
   "id": "3a1b57ea-e832-4e06-8ba0-a78988abdd12",
   "metadata": {},
   "outputs": [],
   "source": [
    "# Get rid of HTML ampersands\n",
    "for str_column in [ 'Title', 'Research Topics', 'Categories' ]:\n",
    "    df[str_column] = df[str_column].str.replace( '&amp;', '&' )"
   ]
  },
  {
   "cell_type": "code",
   "execution_count": null,
   "id": "147a4759-7c0d-4245-ba4d-9ea617b6f034",
   "metadata": {},
   "outputs": [],
   "source": [
    "# Get date bins\n",
    "start_year = df['Date'].min().year - 1\n",
    "end_year = df['Date'].max().year + 1\n",
    "date_bins = pd.date_range(\n",
    "    '{} {}'.format( year_start, start_year ),\n",
    "    pd.Timestamp.now() + pd.offsets.DateOffset( years=1 ),\n",
    "    freq = pd.offsets.DateOffset( years=1 ),\n",
    ")\n",
    "date_bin_labels = date_bins.year[:-1]"
   ]
  },
  {
   "cell_type": "code",
   "execution_count": null,
   "id": "c9cb87f2-e45d-45a3-a212-e34a5c3eb2d3",
   "metadata": {},
   "outputs": [],
   "source": [
    "# Add the year published (using the above start date )\n",
    "df['Year'] = pd.cut( df['Date'], date_bins, labels=date_bin_labels ) "
   ]
  },
  {
   "cell_type": "markdown",
   "id": "12ecd090-0075-45e3-ad37-11f063f012b7",
   "metadata": {},
   "source": [
    "# Visualize"
   ]
  },
  {
   "cell_type": "code",
   "execution_count": null,
   "id": "35451cae-5b8e-4c8c-ad76-9145ca98503f",
   "metadata": {},
   "outputs": [],
   "source": [
    "for group_by_i in groupings:\n",
    "    df_i = df.copy()\n",
    "\n",
    "    # Explode and group\n",
    "    df_i[group_by_i] = df_i[group_by_i].str.split( '|' )\n",
    "    df_i = df_i.explode( group_by_i )\n",
    "\n",
    "    counts = df_i.pivot_table( index='Year', columns=group_by_i, values='id', aggfunc='count' )\n",
    "\n",
    "    years = counts.index.astype( int )\n",
    "\n",
    "    facet_grid = sns.relplot(\n",
    "        counts,\n",
    "        kind = 'line',\n",
    "        dashes = False,\n",
    "        linewidth = 3,\n",
    "        aspect = 2\n",
    "    )\n",
    "    facet_grid.ax.set_xlim( years[0], years[-1] )\n",
    "    facet_grid.ax.set_ylim( 0, facet_grid.ax.get_ylim()[1] )\n",
    "    ticks = facet_grid.ax.set_xticks( years )\n",
    "    facet_grid.ax.set_ylabel( 'Count' )\n",
    "\n",
    "    save_fp = './figures/count_per_year.{}.pdf'.format( group_by_i.lower().replace( ' ', '_' ) )\n",
    "\n",
    "    facet_grid.fig.savefig( save_fp, bbox_inches='tight' )"
   ]
  },
  {
   "cell_type": "markdown",
   "id": "ef0f7e34-007f-461b-bb5d-ada0b4030e97",
   "metadata": {},
   "source": [
    "# Scratch"
   ]
  },
  {
   "cell_type": "code",
   "execution_count": 17,
   "id": "09b037d5-3996-420d-9f12-fcb260dc3318",
   "metadata": {
    "tags": []
   },
   "outputs": [],
   "source": [
    "df = pd.read_csv( '../test/test_data/press_office.csv' )"
   ]
  },
  {
   "cell_type": "code",
   "execution_count": 18,
   "id": "22e12e94-5ccf-4ef2-9a44-f5b329bee00d",
   "metadata": {
    "tags": []
   },
   "outputs": [],
   "source": [
    "df.drop( 'Unnamed: 0', axis='columns', inplace=True )"
   ]
  },
  {
   "cell_type": "code",
   "execution_count": 21,
   "id": "99ddb6be-274b-41b5-8250-bb813fb26427",
   "metadata": {
    "tags": []
   },
   "outputs": [],
   "source": [
    "df['Title (optional)'] = df['Title (optional)'].str.strip()"
   ]
  },
  {
   "cell_type": "code",
   "execution_count": 10,
   "id": "26978d98-5e9c-4291-aa76-e6c0612a5aa4",
   "metadata": {
    "tags": []
   },
   "outputs": [
    {
     "ename": "SyntaxError",
     "evalue": "incomplete input (2071547193.py, line 23)",
     "output_type": "error",
     "traceback": [
      "\u001b[0;36m  Cell \u001b[0;32mIn[10], line 23\u001b[0;36m\u001b[0m\n\u001b[0;31m    pd.DataFrame.to_excel(\u001b[0m\n\u001b[0m                          ^\u001b[0m\n\u001b[0;31mSyntaxError\u001b[0m\u001b[0;31m:\u001b[0m incomplete input\n"
     ]
    }
   ],
   "source": [
    "df.drop( 'Unnamed: 5', axis='columns', inplace=True )\n",
    "\n",
    "df.dropna( axis='rows', inplace=True )\n",
    "\n",
    "df = df.set_axis( df.columns.str.strip(), axis='columns' )\n",
    "\n",
    "for column in df.columns:\n",
    "    try:\n",
    "        df[column] = df[column].str.strip()\n",
    "    except AttributeError:\n",
    "        continue\n",
    "\n",
    "for column in df.columns:\n",
    "    try:\n",
    "        df[column] = df[column].values.astype( int )\n",
    "    except ValueError:\n",
    "        continue\n",
    "\n",
    "df.to_csv(  '../test/test_data/press_office.csv' )\n",
    "\n",
    "df.to_xml\n",
    "\n",
    "# pd.DataFrame.to_excel("
   ]
  },
  {
   "cell_type": "code",
   "execution_count": 14,
   "id": "a68519ab-0fba-4b90-a16e-7aa8b1f538ae",
   "metadata": {
    "tags": []
   },
   "outputs": [],
   "source": [
    "df.set_index( 'id', inplace=True )"
   ]
  },
  {
   "cell_type": "code",
   "execution_count": 13,
   "id": "8dd8736f-ed6b-403b-a4a2-56bc45f7dbab",
   "metadata": {
    "tags": []
   },
   "outputs": [
    {
     "data": {
      "text/plain": [
       "\u001b[0;31mSignature:\u001b[0m\n",
       "\u001b[0mpd\u001b[0m\u001b[0;34m.\u001b[0m\u001b[0mDataFrame\u001b[0m\u001b[0;34m.\u001b[0m\u001b[0mto_excel\u001b[0m\u001b[0;34m(\u001b[0m\u001b[0;34m\u001b[0m\n",
       "\u001b[0;34m\u001b[0m    \u001b[0mself\u001b[0m\u001b[0;34m,\u001b[0m\u001b[0;34m\u001b[0m\n",
       "\u001b[0;34m\u001b[0m    \u001b[0mexcel_writer\u001b[0m\u001b[0;34m,\u001b[0m\u001b[0;34m\u001b[0m\n",
       "\u001b[0;34m\u001b[0m    \u001b[0msheet_name\u001b[0m\u001b[0;34m:\u001b[0m \u001b[0;34m'str'\u001b[0m \u001b[0;34m=\u001b[0m \u001b[0;34m'Sheet1'\u001b[0m\u001b[0;34m,\u001b[0m\u001b[0;34m\u001b[0m\n",
       "\u001b[0;34m\u001b[0m    \u001b[0mna_rep\u001b[0m\u001b[0;34m:\u001b[0m \u001b[0;34m'str'\u001b[0m \u001b[0;34m=\u001b[0m \u001b[0;34m''\u001b[0m\u001b[0;34m,\u001b[0m\u001b[0;34m\u001b[0m\n",
       "\u001b[0;34m\u001b[0m    \u001b[0mfloat_format\u001b[0m\u001b[0;34m:\u001b[0m \u001b[0;34m'str | None'\u001b[0m \u001b[0;34m=\u001b[0m \u001b[0;32mNone\u001b[0m\u001b[0;34m,\u001b[0m\u001b[0;34m\u001b[0m\n",
       "\u001b[0;34m\u001b[0m    \u001b[0mcolumns\u001b[0m\u001b[0;34m:\u001b[0m \u001b[0;34m'Sequence[Hashable] | None'\u001b[0m \u001b[0;34m=\u001b[0m \u001b[0;32mNone\u001b[0m\u001b[0;34m,\u001b[0m\u001b[0;34m\u001b[0m\n",
       "\u001b[0;34m\u001b[0m    \u001b[0mheader\u001b[0m\u001b[0;34m:\u001b[0m \u001b[0;34m'Sequence[Hashable] | bool_t'\u001b[0m \u001b[0;34m=\u001b[0m \u001b[0;32mTrue\u001b[0m\u001b[0;34m,\u001b[0m\u001b[0;34m\u001b[0m\n",
       "\u001b[0;34m\u001b[0m    \u001b[0mindex\u001b[0m\u001b[0;34m:\u001b[0m \u001b[0;34m'bool_t'\u001b[0m \u001b[0;34m=\u001b[0m \u001b[0;32mTrue\u001b[0m\u001b[0;34m,\u001b[0m\u001b[0;34m\u001b[0m\n",
       "\u001b[0;34m\u001b[0m    \u001b[0mindex_label\u001b[0m\u001b[0;34m:\u001b[0m \u001b[0;34m'IndexLabel'\u001b[0m \u001b[0;34m=\u001b[0m \u001b[0;32mNone\u001b[0m\u001b[0;34m,\u001b[0m\u001b[0;34m\u001b[0m\n",
       "\u001b[0;34m\u001b[0m    \u001b[0mstartrow\u001b[0m\u001b[0;34m:\u001b[0m \u001b[0;34m'int'\u001b[0m \u001b[0;34m=\u001b[0m \u001b[0;36m0\u001b[0m\u001b[0;34m,\u001b[0m\u001b[0;34m\u001b[0m\n",
       "\u001b[0;34m\u001b[0m    \u001b[0mstartcol\u001b[0m\u001b[0;34m:\u001b[0m \u001b[0;34m'int'\u001b[0m \u001b[0;34m=\u001b[0m \u001b[0;36m0\u001b[0m\u001b[0;34m,\u001b[0m\u001b[0;34m\u001b[0m\n",
       "\u001b[0;34m\u001b[0m    \u001b[0mengine\u001b[0m\u001b[0;34m:\u001b[0m \u001b[0;34m'str | None'\u001b[0m \u001b[0;34m=\u001b[0m \u001b[0;32mNone\u001b[0m\u001b[0;34m,\u001b[0m\u001b[0;34m\u001b[0m\n",
       "\u001b[0;34m\u001b[0m    \u001b[0mmerge_cells\u001b[0m\u001b[0;34m:\u001b[0m \u001b[0;34m'bool_t'\u001b[0m \u001b[0;34m=\u001b[0m \u001b[0;32mTrue\u001b[0m\u001b[0;34m,\u001b[0m\u001b[0;34m\u001b[0m\n",
       "\u001b[0;34m\u001b[0m    \u001b[0mencoding\u001b[0m\u001b[0;34m:\u001b[0m \u001b[0;34m'lib.NoDefault'\u001b[0m \u001b[0;34m=\u001b[0m \u001b[0;34m<\u001b[0m\u001b[0mno_default\u001b[0m\u001b[0;34m>\u001b[0m\u001b[0;34m,\u001b[0m\u001b[0;34m\u001b[0m\n",
       "\u001b[0;34m\u001b[0m    \u001b[0minf_rep\u001b[0m\u001b[0;34m:\u001b[0m \u001b[0;34m'str'\u001b[0m \u001b[0;34m=\u001b[0m \u001b[0;34m'inf'\u001b[0m\u001b[0;34m,\u001b[0m\u001b[0;34m\u001b[0m\n",
       "\u001b[0;34m\u001b[0m    \u001b[0mverbose\u001b[0m\u001b[0;34m:\u001b[0m \u001b[0;34m'lib.NoDefault'\u001b[0m \u001b[0;34m=\u001b[0m \u001b[0;34m<\u001b[0m\u001b[0mno_default\u001b[0m\u001b[0;34m>\u001b[0m\u001b[0;34m,\u001b[0m\u001b[0;34m\u001b[0m\n",
       "\u001b[0;34m\u001b[0m    \u001b[0mfreeze_panes\u001b[0m\u001b[0;34m:\u001b[0m \u001b[0;34m'tuple[int, int] | None'\u001b[0m \u001b[0;34m=\u001b[0m \u001b[0;32mNone\u001b[0m\u001b[0;34m,\u001b[0m\u001b[0;34m\u001b[0m\n",
       "\u001b[0;34m\u001b[0m    \u001b[0mstorage_options\u001b[0m\u001b[0;34m:\u001b[0m \u001b[0;34m'StorageOptions'\u001b[0m \u001b[0;34m=\u001b[0m \u001b[0;32mNone\u001b[0m\u001b[0;34m,\u001b[0m\u001b[0;34m\u001b[0m\n",
       "\u001b[0;34m\u001b[0m\u001b[0;34m)\u001b[0m \u001b[0;34m->\u001b[0m \u001b[0;34m'None'\u001b[0m\u001b[0;34m\u001b[0m\u001b[0;34m\u001b[0m\u001b[0m\n",
       "\u001b[0;31mDocstring:\u001b[0m\n",
       "Write object to an Excel sheet.\n",
       "\n",
       "To write a single object to an Excel .xlsx file it is only necessary to\n",
       "specify a target file name. To write to multiple sheets it is necessary to\n",
       "create an `ExcelWriter` object with a target file name, and specify a sheet\n",
       "in the file to write to.\n",
       "\n",
       "Multiple sheets may be written to by specifying unique `sheet_name`.\n",
       "With all data written to the file it is necessary to save the changes.\n",
       "Note that creating an `ExcelWriter` object with a file name that already\n",
       "exists will result in the contents of the existing file being erased.\n",
       "\n",
       "Parameters\n",
       "----------\n",
       "excel_writer : path-like, file-like, or ExcelWriter object\n",
       "    File path or existing ExcelWriter.\n",
       "sheet_name : str, default 'Sheet1'\n",
       "    Name of sheet which will contain DataFrame.\n",
       "na_rep : str, default ''\n",
       "    Missing data representation.\n",
       "float_format : str, optional\n",
       "    Format string for floating point numbers. For example\n",
       "    ``float_format=\"%.2f\"`` will format 0.1234 to 0.12.\n",
       "columns : sequence or list of str, optional\n",
       "    Columns to write.\n",
       "header : bool or list of str, default True\n",
       "    Write out the column names. If a list of string is given it is\n",
       "    assumed to be aliases for the column names.\n",
       "index : bool, default True\n",
       "    Write row names (index).\n",
       "index_label : str or sequence, optional\n",
       "    Column label for index column(s) if desired. If not specified, and\n",
       "    `header` and `index` are True, then the index names are used. A\n",
       "    sequence should be given if the DataFrame uses MultiIndex.\n",
       "startrow : int, default 0\n",
       "    Upper left cell row to dump data frame.\n",
       "startcol : int, default 0\n",
       "    Upper left cell column to dump data frame.\n",
       "engine : str, optional\n",
       "    Write engine to use, 'openpyxl' or 'xlsxwriter'. You can also set this\n",
       "    via the options ``io.excel.xlsx.writer``, ``io.excel.xls.writer``, and\n",
       "    ``io.excel.xlsm.writer``.\n",
       "\n",
       "    .. deprecated:: 1.2.0\n",
       "\n",
       "        As the `xlwt <https://pypi.org/project/xlwt/>`__ package is no longer\n",
       "        maintained, the ``xlwt`` engine will be removed in a future version\n",
       "        of pandas.\n",
       "\n",
       "merge_cells : bool, default True\n",
       "    Write MultiIndex and Hierarchical Rows as merged cells.\n",
       "encoding : str, optional\n",
       "    Encoding of the resulting excel file. Only necessary for xlwt,\n",
       "    other writers support unicode natively.\n",
       "\n",
       "    .. deprecated:: 1.5.0\n",
       "\n",
       "        This keyword was not used.\n",
       "\n",
       "inf_rep : str, default 'inf'\n",
       "    Representation for infinity (there is no native representation for\n",
       "    infinity in Excel).\n",
       "verbose : bool, default True\n",
       "    Display more information in the error logs.\n",
       "\n",
       "    .. deprecated:: 1.5.0\n",
       "\n",
       "        This keyword was not used.\n",
       "\n",
       "freeze_panes : tuple of int (length 2), optional\n",
       "    Specifies the one-based bottommost row and rightmost column that\n",
       "    is to be frozen.\n",
       "storage_options : dict, optional\n",
       "    Extra options that make sense for a particular storage connection, e.g.\n",
       "    host, port, username, password, etc. For HTTP(S) URLs the key-value pairs\n",
       "    are forwarded to ``urllib.request.Request`` as header options. For other\n",
       "    URLs (e.g. starting with \"s3://\", and \"gcs://\") the key-value pairs are\n",
       "    forwarded to ``fsspec.open``. Please see ``fsspec`` and ``urllib`` for more\n",
       "    details, and for more examples on storage options refer `here\n",
       "    <https://pandas.pydata.org/docs/user_guide/io.html?\n",
       "    highlight=storage_options#reading-writing-remote-files>`_.\n",
       "\n",
       "    .. versionadded:: 1.2.0\n",
       "\n",
       "See Also\n",
       "--------\n",
       "to_csv : Write DataFrame to a comma-separated values (csv) file.\n",
       "ExcelWriter : Class for writing DataFrame objects into excel sheets.\n",
       "read_excel : Read an Excel file into a pandas DataFrame.\n",
       "read_csv : Read a comma-separated values (csv) file into DataFrame.\n",
       "io.formats.style.Styler.to_excel : Add styles to Excel sheet.\n",
       "\n",
       "Notes\n",
       "-----\n",
       "For compatibility with :meth:`~DataFrame.to_csv`,\n",
       "to_excel serializes lists and dicts to strings before writing.\n",
       "\n",
       "Once a workbook has been saved it is not possible to write further\n",
       "data without rewriting the whole workbook.\n",
       "\n",
       "Examples\n",
       "--------\n",
       "\n",
       "Create, write to and save a workbook:\n",
       "\n",
       ">>> df1 = pd.DataFrame([['a', 'b'], ['c', 'd']],\n",
       "...                    index=['row 1', 'row 2'],\n",
       "...                    columns=['col 1', 'col 2'])\n",
       ">>> df1.to_excel(\"output.xlsx\")  # doctest: +SKIP\n",
       "\n",
       "To specify the sheet name:\n",
       "\n",
       ">>> df1.to_excel(\"output.xlsx\",\n",
       "...              sheet_name='Sheet_name_1')  # doctest: +SKIP\n",
       "\n",
       "If you wish to write to more than one sheet in the workbook, it is\n",
       "necessary to specify an ExcelWriter object:\n",
       "\n",
       ">>> df2 = df1.copy()\n",
       ">>> with pd.ExcelWriter('output.xlsx') as writer:  # doctest: +SKIP\n",
       "...     df1.to_excel(writer, sheet_name='Sheet_name_1')\n",
       "...     df2.to_excel(writer, sheet_name='Sheet_name_2')\n",
       "\n",
       "ExcelWriter can also be used to append to an existing Excel file:\n",
       "\n",
       ">>> with pd.ExcelWriter('output.xlsx',\n",
       "...                     mode='a') as writer:  # doctest: +SKIP\n",
       "...     df.to_excel(writer, sheet_name='Sheet_name_3')\n",
       "\n",
       "To set the library that is used to write the Excel file,\n",
       "you can pass the `engine` keyword (the default engine is\n",
       "automatically chosen depending on the file extension):\n",
       "\n",
       ">>> df1.to_excel('output1.xlsx', engine='xlsxwriter')  # doctest: +SKIP\n",
       "\u001b[0;31mFile:\u001b[0m      ~/miniconda3/envs/press-dashboard/lib/python3.11/site-packages/pandas/core/generic.py\n",
       "\u001b[0;31mType:\u001b[0m      function"
      ]
     },
     "metadata": {},
     "output_type": "display_data"
    }
   ],
   "source": [
    "pd.DataFrame.to_excel?"
   ]
  },
  {
   "cell_type": "code",
   "execution_count": 16,
   "id": "2a311ad5-7473-4920-83d9-85de4d972811",
   "metadata": {
    "tags": []
   },
   "outputs": [],
   "source": [
    "df.to_excel( '../test/test_data/press_office.xlsx', )"
   ]
  },
  {
   "cell_type": "code",
   "execution_count": null,
   "id": "4ac11a13-eed0-413e-9872-f0e6d65f8323",
   "metadata": {},
   "outputs": [],
   "source": []
  }
 ],
 "metadata": {
  "kernelspec": {
   "display_name": "Python 3 (ipykernel)",
   "language": "python",
   "name": "python3"
  },
  "language_info": {
   "codemirror_mode": {
    "name": "ipython",
    "version": 3
   },
   "file_extension": ".py",
   "mimetype": "text/x-python",
   "name": "python",
   "nbconvert_exporter": "python",
   "pygments_lexer": "ipython3",
   "version": "3.11.4"
  }
 },
 "nbformat": 4,
 "nbformat_minor": 5
}
