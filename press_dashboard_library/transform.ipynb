{
 "cells": [
  {
   "cell_type": "markdown",
   "id": "ff538404-b421-40aa-9b5f-e41edb95913c",
   "metadata": {},
   "source": [
    "# Setup"
   ]
  },
  {
   "cell_type": "code",
   "execution_count": 30,
   "id": "80e58657-da4c-425c-a162-d0b25ecebe0e",
   "metadata": {
    "tags": []
   },
   "outputs": [],
   "source": [
    "import argparse"
   ]
  },
  {
   "cell_type": "code",
   "execution_count": 31,
   "id": "4d435dd3-4106-42c3-a445-72802ca318e0",
   "metadata": {},
   "outputs": [],
   "source": [
    "import numpy as np\n",
    "import os\n",
    "import glob\n",
    "import pandas as pd\n",
    "import sys"
   ]
  },
  {
   "cell_type": "code",
   "execution_count": 3,
   "id": "d667b104-d2ad-48ac-bb50-b66ed00d7364",
   "metadata": {
    "tags": []
   },
   "outputs": [],
   "source": [
    "import yaml"
   ]
  },
  {
   "cell_type": "code",
   "execution_count": 36,
   "id": "27701856-fd8f-43ef-a6fc-b8ace72061dd",
   "metadata": {
    "tags": []
   },
   "outputs": [],
   "source": [
    "import os"
   ]
  },
  {
   "cell_type": "code",
   "execution_count": 29,
   "id": "9ed1856f-b610-45e2-915e-ad9d364d305a",
   "metadata": {},
   "outputs": [],
   "source": [
    "# # Retrieve config_fp if passed via command line\n",
    "# parser = argparse.ArgumentParser()\n",
    "# parser.add_argument(\n",
    "#     '--config_fp',\n",
    "#     type = str,\n",
    "#     help = 'Location of your config file.',\n",
    "#     default = ,\n",
    "# )\n",
    "# cli_args, unknown_args = parser.parse_known_args()"
   ]
  },
  {
   "cell_type": "code",
   "execution_count": 34,
   "id": "5137a668-a624-4dd2-96ca-6f9ee5f1c153",
   "metadata": {
    "tags": []
   },
   "outputs": [],
   "source": [
    "with open( './config.yml', \"r\") as f:\n",
    "    config = yaml.load(f, Loader=yaml.FullLoader)"
   ]
  },
  {
   "cell_type": "markdown",
   "id": "bcbea391-a730-4ad2-ad8b-859eb59ce5b2",
   "metadata": {},
   "source": [
    "## Process Config"
   ]
  },
  {
   "cell_type": "code",
   "execution_count": 32,
   "id": "5f898582-9b29-41b2-8dea-f0869ff9ade7",
   "metadata": {
    "tags": []
   },
   "outputs": [
    {
     "name": "stdout",
     "output_type": "stream",
     "text": [
      "/Users/zhafen/repos/press-dashboard/press_dashboard_library\n"
     ]
    }
   ],
   "source": [
    "print( os.getcwd() )"
   ]
  },
  {
   "cell_type": "code",
   "execution_count": 10,
   "id": "142cee90-de7b-45db-b275-7af5dc20a3a7",
   "metadata": {
    "tags": []
   },
   "outputs": [],
   "source": [
    "data_fp = os.path.join( config['data_dir'], config['input_dirname'], config['website_data_file_pattern'] )\n",
    "data_fp = glob.glob( data_fp )[0]"
   ]
  },
  {
   "cell_type": "code",
   "execution_count": 11,
   "id": "6e1b5c24-5e1a-4417-a621-c1817d767f5c",
   "metadata": {
    "tags": []
   },
   "outputs": [],
   "source": [
    "press_office_data_fp = os.path.join( config['data_dir'], config['input_dirname'], config['press_office_data_file_pattern'] )\n",
    "press_office_data_fp = glob.glob( press_office_data_fp )[0]"
   ]
  },
  {
   "cell_type": "code",
   "execution_count": 12,
   "id": "2cd49f1d-54b8-4f7e-b7bb-f43f4f6ab888",
   "metadata": {
    "tags": []
   },
   "outputs": [],
   "source": [
    "output_dir = os.path.join( config['data_dir'], config['output_dirname'] )\n",
    "os.makedirs( output_dir, exist_ok=True )"
   ]
  },
  {
   "cell_type": "code",
   "execution_count": 13,
   "id": "c2f538b6-c4bc-4a88-b7de-c0129b7e9ace",
   "metadata": {
    "tags": []
   },
   "outputs": [],
   "source": [
    "grouping_labels = [ group_by_i.lower().replace( ' ', '_' ) for group_by_i in config['groupings'] ]"
   ]
  },
  {
   "cell_type": "code",
   "execution_count": 14,
   "id": "50298c9c-27c2-499e-870d-a9a605fdc049",
   "metadata": {
    "tags": []
   },
   "outputs": [],
   "source": [
    "data_fp = os.path.join( config['data_dir'], config['input_dirname'], config['website_data_file_pattern'] )\n",
    "data_fp = glob.glob( data_fp )[0]"
   ]
  },
  {
   "cell_type": "code",
   "execution_count": 15,
   "id": "4a93125e-85ec-4f72-af23-b61845a7f71b",
   "metadata": {
    "tags": []
   },
   "outputs": [],
   "source": [
    "press_office_data_fp = os.path.join( config['data_dir'], config['input_dirname'], config['press_office_data_file_pattern'] )\n",
    "press_office_data_fp = glob.glob( press_office_data_fp )[0]"
   ]
  },
  {
   "cell_type": "code",
   "execution_count": 16,
   "id": "95a3f5c1-6020-4a0e-9bf4-7403b9027dae",
   "metadata": {
    "tags": []
   },
   "outputs": [],
   "source": [
    "output_dir = os.path.join( config['data_dir'], config['output_dirname'] )\n",
    "os.makedirs( output_dir, exist_ok=True )"
   ]
  },
  {
   "cell_type": "code",
   "execution_count": 17,
   "id": "29c96296-f88f-4b47-bbd3-0f18ef3a00f3",
   "metadata": {
    "tags": []
   },
   "outputs": [],
   "source": [
    "grouping_labels = [ group_by_i.lower().replace( ' ', '_' ) for group_by_i in config['groupings'] ]"
   ]
  },
  {
   "cell_type": "markdown",
   "id": "4be9cf09-9684-430c-9bf5-464ba793624b",
   "metadata": {},
   "source": [
    "# Transform Website Data"
   ]
  },
  {
   "cell_type": "markdown",
   "id": "8ea3da43-7a62-4d0d-ab04-eee9ad78ac8d",
   "metadata": {},
   "source": [
    "## Preprocessing"
   ]
  },
  {
   "cell_type": "code",
   "execution_count": 18,
   "id": "587a9b88-28a4-4d6d-833a-90bdaae2df28",
   "metadata": {},
   "outputs": [],
   "source": [
    "# Load data\n",
    "df = pd.read_csv( data_fp, parse_dates=[ 'Date', ] )"
   ]
  },
  {
   "cell_type": "code",
   "execution_count": 19,
   "id": "ccc050f5-70f0-4012-9959-8622ec67a6f5",
   "metadata": {},
   "outputs": [],
   "source": [
    "# Drop drafts\n",
    "df.drop( df.index[df['Date'].dt.year == 1970], axis='rows', inplace=True )"
   ]
  },
  {
   "cell_type": "code",
   "execution_count": 20,
   "id": "51580882-d883-4dd3-930b-38b749278f91",
   "metadata": {},
   "outputs": [],
   "source": [
    "# Drop weird articles---ancient ones w/o a title or press type\n",
    "df.dropna( axis='rows', how='any', subset=[ 'Title', 'Press Types', ], inplace=True )"
   ]
  },
  {
   "cell_type": "code",
   "execution_count": 21,
   "id": "3a1b57ea-e832-4e06-8ba0-a78988abdd12",
   "metadata": {},
   "outputs": [],
   "source": [
    "# Get rid of HTML ampersands\n",
    "for str_column in [ 'Title', 'Research Topics', 'Categories' ]:\n",
    "    df[str_column] = df[str_column].str.replace( '&amp;', '&' )"
   ]
  },
  {
   "cell_type": "code",
   "execution_count": 22,
   "id": "147a4759-7c0d-4245-ba4d-9ea617b6f034",
   "metadata": {},
   "outputs": [],
   "source": [
    "# Get date bins\n",
    "start_year = df['Date'].min().year - 1\n",
    "end_year = df['Date'].max().year + 1\n",
    "date_bins = pd.date_range(\n",
    "    '{} {}'.format( config['year_start'], start_year ),\n",
    "    pd.Timestamp.now() + pd.offsets.DateOffset( years=1 ),\n",
    "    freq = pd.offsets.DateOffset( years=1 ),\n",
    ")\n",
    "date_bin_labels = date_bins.year[:-1]"
   ]
  },
  {
   "cell_type": "code",
   "execution_count": 23,
   "id": "c9cb87f2-e45d-45a3-a212-e34a5c3eb2d3",
   "metadata": {},
   "outputs": [],
   "source": [
    "# Add the year published (using the above start date )\n",
    "df['Year'] = pd.cut( df['Date'], date_bins, labels=date_bin_labels ) "
   ]
  },
  {
   "cell_type": "markdown",
   "id": "548121b5-bdc8-4ad8-af5c-20667af1cc2b",
   "metadata": {},
   "source": [
    "## Grouped Counts"
   ]
  },
  {
   "cell_type": "code",
   "execution_count": 24,
   "id": "c347b980-88c3-4642-a9d1-04f428f94f30",
   "metadata": {
    "tags": []
   },
   "outputs": [],
   "source": [
    "for i, group_by_i in enumerate( config['groupings'] ):\n",
    "    df_i = df.copy()\n",
    "\n",
    "    # Explode and group\n",
    "    df_i[group_by_i] = df_i[group_by_i].str.split( '|' )\n",
    "    df_i = df_i.explode( group_by_i )\n",
    "\n",
    "    # Get counts\n",
    "    counts = df_i.pivot_table( index='Year', columns=group_by_i, values='id', aggfunc='count' )\n",
    "    \n",
    "    # Save\n",
    "    output_fn = 'counts.{}.csv'.format( grouping_labels[i] )\n",
    "    output_fp = os.path.join( output_dir, output_fn )\n",
    "    counts.to_csv( output_fp, )"
   ]
  },
  {
   "cell_type": "markdown",
   "id": "2beddf9a-4567-4036-aa3d-6dbdc6b80d03",
   "metadata": {},
   "source": [
    "# Coordinate Manual Data"
   ]
  },
  {
   "cell_type": "code",
   "execution_count": null,
   "id": "5d1c5970-6ef7-437d-afdc-5e298bd93131",
   "metadata": {},
   "outputs": [],
   "source": []
  }
 ],
 "metadata": {
  "kernelspec": {
   "display_name": "Python 3 (ipykernel)",
   "language": "python",
   "name": "python3"
  },
  "language_info": {
   "codemirror_mode": {
    "name": "ipython",
    "version": 3
   },
   "file_extension": ".py",
   "mimetype": "text/x-python",
   "name": "python",
   "nbconvert_exporter": "python",
   "pygments_lexer": "ipython3",
   "version": "3.11.4"
  }
 },
 "nbformat": 4,
 "nbformat_minor": 5
}
