{
 "cells": [
  {
   "cell_type": "code",
   "execution_count": null,
   "id": "694aa7fe-9beb-4149-823d-56936047890b",
   "metadata": {},
   "outputs": [],
   "source": [
    "import numpy as np\n",
    "import pandas as pd"
   ]
  },
  {
   "cell_type": "code",
   "execution_count": null,
   "id": "fa41e967-f9a1-41d3-af3b-9116b28164b7",
   "metadata": {},
   "outputs": [],
   "source": [
    "import matplotlib\n",
    "import matplotlib.pyplot as plt\n",
    "import seaborn as sns\n",
    "sns.set_style( 'whitegrid' )"
   ]
  },
  {
   "cell_type": "markdown",
   "id": "e6b8fbe6-77b4-4d7a-ae9c-67646f9eab6a",
   "metadata": {},
   "source": [
    "# Parameters"
   ]
  },
  {
   "cell_type": "code",
   "execution_count": null,
   "id": "d8de42f3-9a31-4252-a9c0-840359281062",
   "metadata": {},
   "outputs": [],
   "source": [
    "year_start = 'September 1'"
   ]
  },
  {
   "cell_type": "code",
   "execution_count": null,
   "id": "f768130a-8632-49e1-8185-7c598425af2f",
   "metadata": {},
   "outputs": [],
   "source": [
    "data_fp = './data/exports/News_Report_2023-07-25.csv'"
   ]
  },
  {
   "cell_type": "code",
   "execution_count": null,
   "id": "7c6ef6fc-4d20-40fd-8def-317403eec29e",
   "metadata": {},
   "outputs": [],
   "source": [
    "groupings = [ 'Research Topics', 'Press Types', 'Categories' ]"
   ]
  },
  {
   "cell_type": "markdown",
   "id": "e6efc6e3-5320-47d5-8158-c4c6e84a6691",
   "metadata": {},
   "source": [
    "# Preprocessing"
   ]
  },
  {
   "cell_type": "code",
   "execution_count": null,
   "id": "587a9b88-28a4-4d6d-833a-90bdaae2df28",
   "metadata": {},
   "outputs": [],
   "source": [
    "# Load data\n",
    "df = pd.read_csv( data_fp, parse_dates=[ 'Date', ] )"
   ]
  },
  {
   "cell_type": "code",
   "execution_count": null,
   "id": "ccc050f5-70f0-4012-9959-8622ec67a6f5",
   "metadata": {},
   "outputs": [],
   "source": [
    "# Drop drafts\n",
    "df.drop( df.index[df['Date'].dt.year == 1970], axis='rows', inplace=True )"
   ]
  },
  {
   "cell_type": "code",
   "execution_count": null,
   "id": "51580882-d883-4dd3-930b-38b749278f91",
   "metadata": {},
   "outputs": [],
   "source": [
    "# Drop weird articles---ancient ones w/o a title or press type\n",
    "df.dropna( axis='rows', how='any', subset=[ 'Title', 'Press Types', ], inplace=True )"
   ]
  },
  {
   "cell_type": "code",
   "execution_count": null,
   "id": "3a1b57ea-e832-4e06-8ba0-a78988abdd12",
   "metadata": {},
   "outputs": [],
   "source": [
    "# Get rid of HTML ampersands\n",
    "for str_column in [ 'Title', 'Research Topics', 'Categories' ]:\n",
    "    df[str_column] = df[str_column].str.replace( '&amp;', '&' )"
   ]
  },
  {
   "cell_type": "code",
   "execution_count": null,
   "id": "147a4759-7c0d-4245-ba4d-9ea617b6f034",
   "metadata": {},
   "outputs": [],
   "source": [
    "# Get date bins\n",
    "start_year = df['Date'].min().year - 1\n",
    "end_year = df['Date'].max().year + 1\n",
    "date_bins = pd.date_range(\n",
    "    '{} {}'.format( year_start, start_year ),\n",
    "    pd.Timestamp.now() + pd.offsets.DateOffset( years=1 ),\n",
    "    freq = pd.offsets.DateOffset( years=1 ),\n",
    ")\n",
    "date_bin_labels = date_bins.year[:-1]"
   ]
  },
  {
   "cell_type": "code",
   "execution_count": null,
   "id": "c9cb87f2-e45d-45a3-a212-e34a5c3eb2d3",
   "metadata": {},
   "outputs": [],
   "source": [
    "# Add the year published (using the above start date )\n",
    "df['Year'] = pd.cut( df['Date'], date_bins, labels=date_bin_labels ) "
   ]
  },
  {
   "cell_type": "markdown",
   "id": "12ecd090-0075-45e3-ad37-11f063f012b7",
   "metadata": {},
   "source": [
    "# Visualize"
   ]
  },
  {
   "cell_type": "code",
   "execution_count": null,
   "id": "35451cae-5b8e-4c8c-ad76-9145ca98503f",
   "metadata": {},
   "outputs": [],
   "source": [
    "for group_by_i in groupings:\n",
    "    df_i = df.copy()\n",
    "\n",
    "    # Explode and group\n",
    "    df_i[group_by_i] = df_i[group_by_i].str.split( '|' )\n",
    "    df_i = df_i.explode( group_by_i )\n",
    "\n",
    "    counts = df_i.pivot_table( index='Year', columns=group_by_i, values='id', aggfunc='count' )\n",
    "\n",
    "    years = counts.index.astype( int )\n",
    "\n",
    "    facet_grid = sns.relplot(\n",
    "        counts,\n",
    "        kind = 'line',\n",
    "        dashes = False,\n",
    "        linewidth = 3,\n",
    "        aspect = 2\n",
    "    )\n",
    "    facet_grid.ax.set_xlim( years[0], years[-1] )\n",
    "    facet_grid.ax.set_ylim( 0, facet_grid.ax.get_ylim()[1] )\n",
    "    ticks = facet_grid.ax.set_xticks( years )\n",
    "    facet_grid.ax.set_ylabel( 'Count' )\n",
    "\n",
    "    save_fp = './figures/count_per_year.{}.pdf'.format( group_by_i.lower().replace( ' ', '_' ) )\n",
    "\n",
    "    facet_grid.fig.savefig( save_fp, bbox_inches='tight' )"
   ]
  },
  {
   "cell_type": "code",
   "execution_count": null,
   "id": "a8436718-e28d-430e-8250-c37c97fa34b1",
   "metadata": {},
   "outputs": [],
   "source": []
  }
 ],
 "metadata": {
  "kernelspec": {
   "display_name": "Python 3 (ipykernel)",
   "language": "python",
   "name": "python3"
  },
  "language_info": {
   "codemirror_mode": {
    "name": "ipython",
    "version": 3
   },
   "file_extension": ".py",
   "mimetype": "text/x-python",
   "name": "python",
   "nbconvert_exporter": "python",
   "pygments_lexer": "ipython3",
   "version": "3.11.4"
  }
 },
 "nbformat": 4,
 "nbformat_minor": 5
}
